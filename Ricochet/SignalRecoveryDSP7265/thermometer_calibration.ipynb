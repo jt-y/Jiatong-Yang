{
 "cells": [
  {
   "cell_type": "code",
   "execution_count": null,
   "metadata": {},
   "outputs": [],
   "source": [
    "from lockin import lockinAmp\n",
    "import numpy as np\n",
    "import time\n",
    "import pickle as pkl\n",
    "from qcodes.instrument_drivers.BlueFors.BlueFors import BlueFors\n",
    "\n",
    "% autoreload 2"
   ]
  },
  {
   "cell_type": "code",
   "execution_count": null,
   "metadata": {},
   "outputs": [],
   "source": [
    "data_dir = '/path/to/data/folder'\n",
    "BF_log_dir = '/path/to/log/folder'"
   ]
  },
  {
   "cell_type": "code",
   "execution_count": null,
   "metadata": {},
   "outputs": [],
   "source": [
    "# Create an instance of the BlueFors instrument\n",
    "bluefors = BlueFors(name='bluefors',\n",
    "                    folder_path=BF_log_dir,\n",
    "                    channel_vacuum_can=1,\n",
    "                    channel_pumping_line=2,\n",
    "                    channel_compressor_outlet=3,\n",
    "                    channel_compressor_inlet=4,\n",
    "                    channel_mixture_tank=5,\n",
    "                    channel_venting_line=6,\n",
    "                    channel_50k_plate=7,\n",
    "                    channel_4k_plate=8,\n",
    "                    channel_still=9,\n",
    "                    channel_mixing_chamber=10,\n",
    "                    channel_magnet=11)\n",
    "\n",
    "# Connect to the BlueFors instrument\n",
    "bluefors.connect_message()\n",
    "\n",
    "# Connect to the lock-in amplifier\n",
    "SR_DSP7265 = lockinAmp(GPIBAddress=12)"
   ]
  },
  {
   "cell_type": "code",
   "execution_count": null,
   "metadata": {},
   "outputs": [],
   "source": [
    "# Set time constant and sensitivity\n",
    "\n",
    "# sensitivity range: 2nV to 1V\n",
    "# time constant range: 10us to 100ks\n",
    "\n",
    "# The lock-in set point will be rounded up to the nearest value in the lock-in's list of available values.\n",
    "\n",
    "SR_DSP7265.set_time_constant(1) # seconds\n",
    "SR_DSP7265.set_sensitivity(0.5) # volts"
   ]
  },
  {
   "cell_type": "code",
   "execution_count": null,
   "metadata": {},
   "outputs": [],
   "source": [
    "# Initialize scan parameters\n",
    "\n",
    "scan_pt_num = 1000\n",
    "delay = 10 # seconds\n",
    "\n",
    "min_freq = 10 # Hz\n",
    "max_freq = 10e3 # Hz\n",
    "freq_num = 100\n",
    "freqs = np.linspace(min_freq, max_freq, freq_num)\n",
    "\n",
    "amp_out = 1\n",
    "\n",
    "data = np.zeros((scan_pt_num, 4, freq_num))"
   ]
  },
  {
   "cell_type": "code",
   "execution_count": null,
   "metadata": {},
   "outputs": [],
   "source": [
    "# Perform the scan\n",
    "\n",
    "for i in range(scan_pt_num):\n",
    "\n",
    "    temperature_MXC = bluefors.temperature_mixing_chamber() # in Kelvin. I actually don't know the function name, so I just made it up.\n",
    "    amp, phase = SR_DSP7265.freq_scan(amp_out, freqs)\n",
    "    data[i, 0, :] = temperature_MXC*np.ones(freq_num)\n",
    "    data[i, 1, :] = freqs\n",
    "    data[i, 2, :] = amp\n",
    "    data[i, 3, :] = phase\n",
    "\n",
    "    time.sleep(delay)"
   ]
  },
  {
   "cell_type": "code",
   "execution_count": null,
   "metadata": {},
   "outputs": [],
   "source": [
    "# Create a dictionary to save the data\n",
    "\n",
    "data_dict = {'temperature': data[:, 0, :],\n",
    "                'frequency': data[:, 1, :],\n",
    "                'amplitude': data[:, 2, :],\n",
    "                'phase': data[:, 3, :]}\n",
    "\n",
    "# Save the data\n",
    "pkl.dump(data_dict, open(data_dir + 'data.pkl', 'wb'))\n"
   ]
  },
  {
   "cell_type": "code",
   "execution_count": null,
   "metadata": {},
   "outputs": [],
   "source": [
    "# Disconnect from the BlueFors instrument\n",
    "bluefors.disconnect()"
   ]
  }
 ],
 "metadata": {
  "language_info": {
   "name": "python"
  }
 },
 "nbformat": 4,
 "nbformat_minor": 2
}
