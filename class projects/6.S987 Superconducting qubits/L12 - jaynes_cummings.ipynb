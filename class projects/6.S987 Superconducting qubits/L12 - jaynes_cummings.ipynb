{
 "cells": [
  {
   "cell_type": "markdown",
   "metadata": {},
   "source": [
    "# The Jaynes-Cummings Model\n",
    "\n",
    "Heavily adapted from this [notebook](https://nbviewer.org/urls/qutip.org/qutip-tutorials/tutorials-v5/time-evolution/004_rabi-oscillations.ipynb)\n"
   ]
  },
  {
   "cell_type": "code",
   "execution_count": null,
   "metadata": {},
   "outputs": [],
   "source": [
    "import matplotlib.pyplot as plt\n",
    "import matplotlib as mpl\n",
    "import numpy as np\n",
    "from cycler import cycler\n",
    "from qutip import basis, destroy, mesolve, qeye, sigmaz, tensor\n",
    "\n",
    "%matplotlib inline\n",
    "\n",
    "# set some plot defaults\n",
    "mpl.rcParams['axes.grid'] = True\n",
    "mpl.rcParams['lines.linewidth'] = 3\n",
    "mpl.rcParams['xtick.labelsize'] = 16\n",
    "mpl.rcParams['ytick.labelsize'] = 16\n",
    "\n",
    "# stole colors from scQubits\n",
    "mpl.rcParams[\"axes.prop_cycle\"] = cycler(\n",
    "    color=[\n",
    "        \"#016E82\",\n",
    "        \"#333795\",\n",
    "        \"#2E5EAC\",\n",
    "        \"#4498D3\",\n",
    "        \"#CD85B9\",\n",
    "        \"#45C3D1\",\n",
    "        \"#AA1D3F\",\n",
    "        \"#F47752\",\n",
    "        \"#19B35A\",\n",
    "        \"#EDE83B\",\n",
    "        \"#ABD379\",\n",
    "        \"#F9E6BE\",\n",
    "    ]\n",
    ")"
   ]
  },
  {
   "cell_type": "markdown",
   "metadata": {},
   "source": [
    "# Helper Methods"
   ]
  },
  {
   "cell_type": "markdown",
   "metadata": {},
   "source": [
    "## Defining the Jaynes-Cummings Hamiltonian\n",
    "\n",
    "Recall from class that the Jaynes-Cummings Hamiltonian is given by ($\\hbar = 1$):\n",
    "\n",
    "$H_{JC} = \\omega_c (a^{\\dag} a + \\frac{1}{2}) + \\frac{1}{2} \\omega_q \\sigma_z + g (a^{\\dag} + a)(\\sigma_- + \\sigma_+)$.\n",
    "\n",
    "When we make the rotating-wave approximation (RWA), this simplifies to\n",
    "\n",
    "$H_{JC} = \\omega_c (a^{\\dag} a + \\frac{1}{2}) + \\frac{1}{2} \\omega_q \\sigma_z + g (a^{\\dag} \\sigma_- + a \\sigma_+)$.\n",
    "\n",
    "<br>\n",
    "<br>\n",
    "To model dissipation in this system, we use collapse operators and follow the Lindblad master equation (recall from `qutip_intro.ipynb`):\n",
    "\n",
    "$\\dot\\rho (t) = -\\frac{i}{\\hbar} \\left[H(t), \\rho(t) \\right] + \\sum\\limits_{n} \\frac{1}{2} \\left[2 C_n\\rho(t)C_n^{\\dagger} - \\rho(t)C_n^{\\dagger}C_n - C_n^{\\dagger}C_n\\rho(t)  \\right]$\n",
    "\n",
    "There are two operators for the cavity (creation + annihilation at different enhanced rates) and one for qubit decay:\n",
    "\n",
    "$C_1 = \\sqrt{\\kappa (\\langle n \\rangle + 1)} a$\n",
    "\n",
    "$C_2 = \\sqrt{\\kappa \\langle n \\rangle} a^{\\dag}$\n",
    "\n",
    "$C_3 = \\sqrt{\\gamma} \\sigma_-$"
   ]
  },
  {
   "cell_type": "code",
   "execution_count": null,
   "metadata": {},
   "outputs": [],
   "source": [
    "def H_JC(wc, wq, g, kappa, gamma, N=15, n_th_a=0, use_rwa=True):\n",
    "    \"\"\"Constructs the Jaynes-Cummings Hamiltonian and collapse operators.\n",
    "\n",
    "    Args:\n",
    "        wc (float): Cavity frequency.\n",
    "        wq (float): Qubit frequency.\n",
    "        g (float): Coupling strength.\n",
    "        kappa (float): Cavity dissipation rate.\n",
    "        gamma (float): Qubit dissipation rate.\n",
    "        N (int, optional): Number of cavity Fock states. Defaults to 15.\n",
    "        n_th_a (float, optional): Temperature in frequency units. Defaults to 0.\n",
    "        use_rwa (bool, optional): Whether to use the Rotating Wave Approximation (RWA). Defaults to True.\n",
    "\n",
    "    Returns:\n",
    "        tuple: Hamiltonian (Qobj) and list of collapse operators (list of Qobj).\n",
    "    \"\"\"\n",
    "    a = tensor(destroy(N), qeye(2))\n",
    "    sm = tensor(qeye(N), destroy(2).dag())\n",
    "    sz = tensor(qeye(N), sigmaz())\n",
    "    \n",
    "    if use_rwa:\n",
    "        H = wc * a.dag() * a + wq / 2 * sz + g * (a.dag() * sm + a * sm.dag())\n",
    "    else:\n",
    "        H = wc * a.dag() * a + wq / 2 * sz + g * (a.dag() + a) * (sm + sm.dag())\n",
    "    \n",
    "    # Collapse operators\n",
    "    c_op_list = []\n",
    "\n",
    "    # Photon annihilation\n",
    "    rate = kappa * (1 + n_th_a)\n",
    "    c_op_list.append(np.sqrt(rate) * a)\n",
    "\n",
    "    # Photon creation\n",
    "    rate = kappa * n_th_a\n",
    "    c_op_list.append(np.sqrt(rate) * a.dag())\n",
    "\n",
    "    # Qubit annihilation\n",
    "    rate = gamma\n",
    "    c_op_list.append(np.sqrt(rate) * sm)\n",
    "\n",
    "    return H, c_op_list"
   ]
  },
  {
   "cell_type": "markdown",
   "metadata": {},
   "source": [
    "# Vacuum Rabi oscillations in the Jaynes-Cummings model"
   ]
  },
  {
   "cell_type": "markdown",
   "metadata": {},
   "source": [
    "## No decay"
   ]
  },
  {
   "cell_type": "code",
   "execution_count": null,
   "metadata": {},
   "outputs": [],
   "source": [
    "N = 15  # number of cavity Fock states\n",
    "wc = 5.0 * 2 * np.pi  # cavity frequency\n",
    "wq = 5.0 * 2 * np.pi  # qubit frequency\n",
    "g = 0.02 * 2 * np.pi  # coupling strength\n",
    "kappa = 0.0  # cavity dissipation rate\n",
    "gamma = 0.0  # qubit dissipation rate\n",
    "n_th_a = 0.0  # temperature in frequency units\n",
    "\n",
    "H, c_op_list = H_JC(wc, wq, g, kappa, gamma, N, n_th_a)"
   ]
  },
  {
   "cell_type": "code",
   "execution_count": null,
   "metadata": {},
   "outputs": [],
   "source": [
    "psi0 = tensor(basis(N, 0), basis(2, 0))\n",
    "a = tensor(destroy(N), qeye(2))\n",
    "sm = tensor(qeye(N), destroy(2).dag())\n",
    "\n",
    "tlist = np.linspace(0, 20 / g, 600)\n",
    "\n",
    "output = mesolve(H, psi0, tlist, c_op_list, [a.dag() * a, sm.dag() * sm])"
   ]
  },
  {
   "cell_type": "code",
   "execution_count": null,
   "metadata": {},
   "outputs": [],
   "source": [
    "fig, ax = plt.subplots(1, 1)\n",
    "labels = [r\"Cavity\", r\"Qubit excited state\"]\n",
    "for i, evals in enumerate(output.expect):\n",
    "    ax.plot(\n",
    "        tlist,\n",
    "        evals,\n",
    "        label=labels[i],\n",
    "    )\n",
    "ax.legend()\n",
    "ax.set_xlabel(r\"$t$\", fontsize=20)\n",
    "ax.set_ylabel(\"Occupation probability\", fontsize=20)\n",
    "plt.tight_layout()"
   ]
  },
  {
   "cell_type": "markdown",
   "metadata": {},
   "source": [
    "## Add in decay"
   ]
  },
  {
   "cell_type": "code",
   "execution_count": null,
   "metadata": {},
   "outputs": [],
   "source": [
    "N = 15  # number of cavity Fock states\n",
    "wc = 5.0 * 2 * np.pi  # cavity frequency\n",
    "wq = 5.0 * 2 * np.pi  # qubit frequency\n",
    "g = 0.02 * 2 * np.pi  # coupling strength\n",
    "kappa = 0.008  # cavity dissipation rate\n",
    "gamma = 0.001  # qubit dissipation rate\n",
    "n_th_a = 0.0  # temperature in frequency units\n",
    "\n",
    "H_res, c_op_list_res = H_JC(wc, wq, g, kappa, gamma, N, n_th_a)\n"
   ]
  },
  {
   "cell_type": "markdown",
   "metadata": {},
   "source": [
    "What is the cooperativity?"
   ]
  },
  {
   "cell_type": "code",
   "execution_count": null,
   "metadata": {},
   "outputs": [],
   "source": [
    "g ** 2 / (kappa * gamma)"
   ]
  },
  {
   "cell_type": "markdown",
   "metadata": {},
   "source": [
    "Time evolution"
   ]
  },
  {
   "cell_type": "code",
   "execution_count": null,
   "metadata": {},
   "outputs": [],
   "source": [
    "psi0 = tensor(basis(N, 0), basis(2, 0))\n",
    "a = tensor(destroy(N), qeye(2))\n",
    "sm = tensor(qeye(N), destroy(2).dag())\n",
    "\n",
    "tlist = np.linspace(0, 100 / g, 600)\n",
    "\n",
    "output_res = mesolve(H_res, psi0, tlist, c_op_list_res, [a.dag() * a, sm.dag() * sm])"
   ]
  },
  {
   "cell_type": "code",
   "execution_count": null,
   "metadata": {},
   "outputs": [],
   "source": [
    "fig, ax = plt.subplots(1, 1)\n",
    "labels = [r\"Cavity\", r\"Qubit excited state\"]\n",
    "for i, evals in enumerate(output_res.expect):\n",
    "    ax.plot(\n",
    "        tlist,\n",
    "        evals,\n",
    "        label=labels[i],\n",
    "    )\n",
    "ax.legend()\n",
    "ax.set_xlabel(r\"$t$\", fontsize=20)\n",
    "ax.set_ylabel(\"Occupation probability\", fontsize=20)\n",
    "plt.tight_layout()"
   ]
  },
  {
   "cell_type": "markdown",
   "metadata": {},
   "source": [
    "now let's add in the analytical decay functions"
   ]
  },
  {
   "cell_type": "code",
   "execution_count": null,
   "metadata": {},
   "outputs": [],
   "source": [
    "fig, ax = plt.subplots(1, 1)\n",
    "labels = [r\"Cavity\", r\"Qubit excited state\"]\n",
    "for i, evals in enumerate(output_res.expect):\n",
    "    ax.plot(\n",
    "        tlist,\n",
    "        evals,\n",
    "        label=labels[i],\n",
    "    )\n",
    "ax.plot(\n",
    "    tlist,\n",
    "    np.exp(-kappa * tlist),\n",
    "    label=\"Cavity (analytical)\",\n",
    "    linestyle=\"--\",\n",
    ")\n",
    "ax.plot(\n",
    "    tlist,\n",
    "    np.exp(-gamma * tlist),\n",
    "    label=\"Qubit excited state (analytical)\",\n",
    "    linestyle=\"--\",\n",
    ")\n",
    "ax.plot(\n",
    "    tlist,\n",
    "    np.exp(-(kappa + gamma) / 2 * tlist),\n",
    "    label=r\"$(\\kappa + \\gamma) / 2$\",\n",
    "    linestyle=\"--\",\n",
    ")\n",
    "ax.legend()\n",
    "ax.set_xlabel(r\"$t$\", fontsize=20)\n",
    "ax.set_ylabel(\"Occupation probability\", fontsize=20)\n",
    "plt.tight_layout()"
   ]
  },
  {
   "cell_type": "markdown",
   "metadata": {},
   "source": [
    "### Non-zero temperature"
   ]
  },
  {
   "cell_type": "code",
   "execution_count": null,
   "metadata": {},
   "outputs": [],
   "source": [
    "N = 15  # number of cavity Fock states\n",
    "wc = 5.0 * 2 * np.pi  # cavity frequency\n",
    "wq = 5.0 * 2 * np.pi  # qubit frequency\n",
    "g = 0.02 * 2 * np.pi  # coupling strength\n",
    "kappa = 0.008  # cavity dissipation rate\n",
    "gamma = 0.001  # qubit dissipation rate\n",
    "n_th_a = 1.0  # temperature in frequency units\n",
    "\n",
    "H_temp, c_op_list_temp = H_JC(wc, wq, g, kappa, gamma, N, n_th_a)\n",
    "\n",
    "psi0 = tensor(basis(N, 0), basis(2, 0))\n",
    "a = tensor(destroy(N), qeye(2))\n",
    "sm = tensor(qeye(N), destroy(2).dag())\n",
    "\n",
    "tlist = np.linspace(0, 20 / g, 300)\n",
    "\n",
    "# evolve system\n",
    "output_temp = mesolve(H_temp, psi0, tlist, c_op_list_temp, [a.dag() * a, sm.dag() * sm])"
   ]
  },
  {
   "cell_type": "code",
   "execution_count": null,
   "metadata": {},
   "outputs": [],
   "source": [
    "fig, ax = plt.subplots(1, 1)\n",
    "labels = [r\"Cavity\", r\"Qubit excited state\"]\n",
    "for i, evals in enumerate(output_temp.expect):\n",
    "    ax.plot(\n",
    "        tlist,\n",
    "        evals,\n",
    "        label=labels[i],\n",
    "    )\n",
    "ax.legend()\n",
    "ax.set_xlabel(r\"$t$\", fontsize=20)\n",
    "ax.set_ylabel(\"Occupation probability\", fontsize=20)\n",
    "plt.tight_layout()"
   ]
  },
  {
   "cell_type": "markdown",
   "metadata": {},
   "source": [
    "## No RWA"
   ]
  },
  {
   "cell_type": "code",
   "execution_count": null,
   "metadata": {},
   "outputs": [],
   "source": [
    "N = 15  # number of cavity Fock states\n",
    "wc = 5.0 * 2 * np.pi  # cavity frequency\n",
    "wq = 5.0 * 2 * np.pi  # qubit frequency\n",
    "g = 4.0 * 2 * np.pi  # coupling strength, make on order of Qubit and cavity frequencies\n",
    "kappa = 0.08  # cavity dissipation rate\n",
    "gamma = 0.01  # qubit dissipation rate\n",
    "n_th_a = 0.0  # temperature in frequency units\n",
    "use_rwa = False  # don't assume RWA\n",
    "\n",
    "H_no_rwa, c_op_list_no_rwa = H_JC(wc, wq, g, kappa, gamma, N, n_th_a, use_rwa)\n",
    "\n",
    "psi0 = tensor(basis(N, 0), basis(2, 0))\n",
    "a = tensor(destroy(N), qeye(2))\n",
    "sm = tensor(qeye(N), destroy(2).dag())\n",
    "\n",
    "tlist = np.linspace(0, 50 / g, 300)\n",
    "\n",
    "# evolve system\n",
    "output_no_rwa = mesolve(H_no_rwa, psi0, tlist, c_op_list_no_rwa, [a.dag() * a, sm.dag() * sm])"
   ]
  },
  {
   "cell_type": "code",
   "execution_count": null,
   "metadata": {},
   "outputs": [],
   "source": [
    "fig, ax = plt.subplots(1, 1)\n",
    "labels = [r\"Cavity\", r\"Qubit excited state\"]\n",
    "for i, evals in enumerate(output_no_rwa.expect):\n",
    "    ax.plot(\n",
    "        tlist,\n",
    "        evals,\n",
    "        label=labels[i],\n",
    "    )\n",
    "ax.legend()\n",
    "ax.set_xlabel(r\"$t$\", fontsize=20)\n",
    "ax.set_ylabel(\"Occupation probability\", fontsize=20)\n",
    "plt.tight_layout()"
   ]
  },
  {
   "cell_type": "markdown",
   "metadata": {},
   "source": [
    "## Detuned regime"
   ]
  },
  {
   "cell_type": "code",
   "execution_count": null,
   "metadata": {},
   "outputs": [],
   "source": [
    "# redfine some params - now the systems are no longer resonant\n",
    "N = 15  # number of cavity Fock states\n",
    "wc = 5.0 * 2 * np.pi  # cavity frequency\n",
    "wq = 4.8 * 2 * np.pi  # qubit frequency\n",
    "g = 0.05 * 2 * np.pi  # coupling strength\n",
    "kappa = 0.002  # cavity dissipation rate\n",
    "gamma = 0.0005  # qubit dissipation rate\n",
    "n_th_a = 0.0  # temperature in frequency units\n",
    "\n",
    "# back with RWA\n",
    "H_detune, c_op_list_detune = H_JC(wc, wq, g, kappa, gamma, N, n_th_a)\n",
    "\n",
    "psi0 = tensor(basis(N, 0), basis(2, 0))\n",
    "a = tensor(destroy(N), qeye(2))\n",
    "sm = tensor(qeye(N), destroy(2).dag())\n",
    "\n",
    "tlist = np.linspace(0, 80 / g, 600)\n",
    "\n",
    "# evolve system\n",
    "output_detune = mesolve(H_detune, psi0, tlist, c_op_list_detune, [a.dag() * a, sm.dag() * sm])"
   ]
  },
  {
   "cell_type": "code",
   "execution_count": null,
   "metadata": {},
   "outputs": [],
   "source": [
    "fig, ax = plt.subplots(1, 1)\n",
    "labels = [r\"Cavity\", r\"Qubit excited state\"]\n",
    "for i, evals in enumerate(output_detune.expect):\n",
    "    ax.plot(\n",
    "        tlist,\n",
    "        evals,\n",
    "        label=labels[i],\n",
    "    )\n",
    "ax.legend()\n",
    "ax.set_xlabel(r\"$t$\", fontsize=20)\n",
    "ax.set_ylabel(\"Occupation probability\", fontsize=20)\n",
    "plt.tight_layout()"
   ]
  },
  {
   "cell_type": "code",
   "execution_count": null,
   "metadata": {},
   "outputs": [],
   "source": [
    "fig, ax = plt.subplots(1, 1)\n",
    "labels = [r\"Cavity\", r\"Qubit excited state\"]\n",
    "for i, evals in enumerate(output_detune.expect):\n",
    "    ax.plot(\n",
    "        tlist,\n",
    "        evals,\n",
    "        label=labels[i],\n",
    "    )\n",
    "ax.plot(\n",
    "    tlist,\n",
    "    0.2 * np.exp(-kappa * tlist),\n",
    "    label=\"Cavity (analytical)\",\n",
    "    linestyle=\"--\",\n",
    ")\n",
    "ax.plot(\n",
    "    tlist,\n",
    "    np.exp(-gamma * tlist),\n",
    "    label=\"Qubit excited state (analytical)\",\n",
    "    linestyle=\"--\",\n",
    ")\n",
    "ax.plot(\n",
    "    tlist,\n",
    "    np.exp(-(kappa + gamma) / 2 * tlist),\n",
    "    label=r\"$(\\kappa + \\gamma) / 2$\",\n",
    "    linestyle=\"--\",\n",
    ")\n",
    "ax.legend()\n",
    "ax.set_xlabel(r\"$t$\", fontsize=20)\n",
    "ax.set_ylabel(\"Occupation probability\", fontsize=20)\n",
    "plt.tight_layout()"
   ]
  },
  {
   "cell_type": "code",
   "execution_count": null,
   "metadata": {},
   "outputs": [],
   "source": []
  }
 ],
 "metadata": {
  "kernelspec": {
   "display_name": "scqubits",
   "language": "python",
   "name": "python3"
  },
  "language_info": {
   "codemirror_mode": {
    "name": "ipython",
    "version": 3
   },
   "file_extension": ".py",
   "mimetype": "text/x-python",
   "name": "python",
   "nbconvert_exporter": "python",
   "pygments_lexer": "ipython3",
   "version": "3.12.9"
  }
 },
 "nbformat": 4,
 "nbformat_minor": 2
}
