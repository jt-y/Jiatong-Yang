{
 "cells": [
  {
   "cell_type": "markdown",
   "metadata": {},
   "source": [
    "# Getting started with QuTiP\n",
    "\n",
    "This brief notebook will introduce some basic concepts and data structures in QuTiP.\n",
    "Consider it a shorter version of their existing introductory notebook!"
   ]
  },
  {
   "cell_type": "markdown",
   "metadata": {},
   "source": [
    "## Import QuTiP\n",
    "\n",
    "In this notebook, we will only need QuTiP and a couple of supporting packages\n",
    "\n",
    "**NB** - I don't like to use `from pkg import *`.\n",
    "Being explicit avoids collisions with methods/modules from other packages, and you know where stuff came from."
   ]
  },
  {
   "cell_type": "code",
   "execution_count": 1,
   "metadata": {},
   "outputs": [],
   "source": [
    "import numpy as np\n",
    "import matplotlib.pyplot as plt\n",
    "import matplotlib as mpl\n",
    "from cycler import cycler\n",
    "from qutip import (\n",
    "    Qobj, basis, coherent, create, destroy, expect,\n",
    "    fock, fock_dm, mesolve, qeye, sigmax, sigmay,\n",
    "    sigmaz, thermal_dm, tensor\n",
    "    )\n",
    "\n",
    "%matplotlib inline\n",
    "\n",
    "# set some plot defaults\n",
    "mpl.rcParams['axes.grid'] = True\n",
    "mpl.rcParams['lines.linewidth'] = 3\n",
    "mpl.rcParams['xtick.labelsize'] = 16\n",
    "mpl.rcParams['ytick.labelsize'] = 16\n",
    "\n",
    "# stole colors from scQubits\n",
    "mpl.rcParams[\"axes.prop_cycle\"] = cycler(\n",
    "    color=[\n",
    "        \"#016E82\",\n",
    "        \"#333795\",\n",
    "        \"#2E5EAC\",\n",
    "        \"#4498D3\",\n",
    "        \"#CD85B9\",\n",
    "        \"#45C3D1\",\n",
    "        \"#AA1D3F\",\n",
    "        \"#F47752\",\n",
    "        \"#19B35A\",\n",
    "        \"#EDE83B\",\n",
    "        \"#ABD379\",\n",
    "        \"#F9E6BE\",\n",
    "    ]\n",
    ")"
   ]
  },
  {
   "cell_type": "markdown",
   "metadata": {
    "tags": []
   },
   "source": [
    "# Quantum objects\n",
    "\n",
    "We can create a new quantum object using the Qobj class constructor"
   ]
  },
  {
   "cell_type": "code",
   "execution_count": 2,
   "metadata": {},
   "outputs": [
    {
     "data": {
      "text/latex": [
       "Quantum object: dims=[[2], [1]], shape=(2, 1), type='ket', dtype=Dense$$\\left(\\begin{array}{cc}1\\\\0\\end{array}\\right)$$"
      ],
      "text/plain": [
       "Quantum object: dims=[[2], [1]], shape=(2, 1), type='ket', dtype=Dense\n",
       "Qobj data =\n",
       "[[1.]\n",
       " [0.]]"
      ]
     },
     "execution_count": 2,
     "metadata": {},
     "output_type": "execute_result"
    }
   ],
   "source": [
    "q = Qobj([[1], [0]])\n",
    "\n",
    "q"
   ]
  },
  {
   "cell_type": "markdown",
   "metadata": {},
   "source": [
    "Here we passed python list as an argument to the class constructor. The data in this list is used to construct the matrix representation of the quantum objects."
   ]
  },
  {
   "cell_type": "markdown",
   "metadata": {},
   "source": [
    "From the printed description of the state, we see it has a few (there are many more!) attributes that we can access:"
   ]
  },
  {
   "cell_type": "code",
   "execution_count": 3,
   "metadata": {},
   "outputs": [
    {
     "name": "stdout",
     "output_type": "stream",
     "text": [
      "`q` dimensions: [[2], [1]]\n",
      "`q` shape: (2, 1)\n",
      "Is `q` hermitian? False\n",
      "is `q` a bra or ket? ket\n"
     ]
    }
   ],
   "source": [
    "print(f\"`q` dimensions: {q.dims}\")\n",
    "print(f\"`q` shape: {q.shape}\")\n",
    "print(f\"Is `q` hermitian? {q.isherm}\")\n",
    "print(f\"is `q` a bra or ket? {q.type}\")"
   ]
  },
  {
   "cell_type": "markdown",
   "metadata": {},
   "source": [
    "We can also create Pauli operators explicitly using `Qobj`:"
   ]
  },
  {
   "cell_type": "code",
   "execution_count": 4,
   "metadata": {},
   "outputs": [
    {
     "data": {
      "text/latex": [
       "Quantum object: dims=[[2], [2]], shape=(2, 2), type='oper', dtype=Dense, isherm=True$$\\left(\\begin{array}{cc}1 & 0\\\\0 & -1\\end{array}\\right)$$"
      ],
      "text/plain": [
       "Quantum object: dims=[[2], [2]], shape=(2, 2), type='oper', dtype=Dense, isherm=True\n",
       "Qobj data =\n",
       "[[ 1.  0.]\n",
       " [ 0. -1.]]"
      ]
     },
     "execution_count": 4,
     "metadata": {},
     "output_type": "execute_result"
    }
   ],
   "source": [
    "sz = Qobj([[1,0], [0,-1]])  # the sigma-z Pauli operator\n",
    "\n",
    "sz"
   ]
  },
  {
   "cell_type": "markdown",
   "metadata": {
    "tags": []
   },
   "source": [
    "# States and operators\n",
    "\n",
    "Normally we do not need to create Qobj instances from stratch, using its constructor and passing its matrix represantation as argument.\n",
    "\n",
    "Instead we can use functions in QuTiP that generates common states and operators for us. Here are some examples of built-in state functions:"
   ]
  },
  {
   "cell_type": "markdown",
   "metadata": {},
   "source": [
    "## Fock"
   ]
  },
  {
   "cell_type": "code",
   "execution_count": 5,
   "metadata": {},
   "outputs": [
    {
     "data": {
      "text/latex": [
       "Quantum object: dims=[[4], [1]], shape=(4, 1), type='ket', dtype=Dense$$\\left(\\begin{array}{cc}0\\\\0\\\\1\\\\0\\end{array}\\right)$$"
      ],
      "text/plain": [
       "Quantum object: dims=[[4], [1]], shape=(4, 1), type='ket', dtype=Dense\n",
       "Qobj data =\n",
       "[[0.]\n",
       " [0.]\n",
       " [1.]\n",
       " [0.]]"
      ]
     },
     "execution_count": 5,
     "metadata": {},
     "output_type": "execute_result"
    }
   ],
   "source": [
    "N = 4 # number of states in the Hilbert space\n",
    "n = 2 # the state that will be occupied\n",
    "\n",
    "basis(N, n)"
   ]
  },
  {
   "cell_type": "markdown",
   "metadata": {},
   "source": [
    "equivalently,"
   ]
  },
  {
   "cell_type": "code",
   "execution_count": 6,
   "metadata": {},
   "outputs": [
    {
     "data": {
      "text/latex": [
       "Quantum object: dims=[[4], [1]], shape=(4, 1), type='ket', dtype=Dense$$\\left(\\begin{array}{cc}0\\\\0\\\\1\\\\0\\end{array}\\right)$$"
      ],
      "text/plain": [
       "Quantum object: dims=[[4], [1]], shape=(4, 1), type='ket', dtype=Dense\n",
       "Qobj data =\n",
       "[[0.]\n",
       " [0.]\n",
       " [1.]\n",
       " [0.]]"
      ]
     },
     "execution_count": 6,
     "metadata": {},
     "output_type": "execute_result"
    }
   ],
   "source": [
    "fock(N, n)"
   ]
  },
  {
   "cell_type": "markdown",
   "metadata": {},
   "source": [
    "## Coherent"
   ]
  },
  {
   "cell_type": "markdown",
   "metadata": {},
   "source": [
    "Generate a coherent state in the Fock basis"
   ]
  },
  {
   "cell_type": "code",
   "execution_count": 7,
   "metadata": {},
   "outputs": [
    {
     "data": {
      "text/latex": [
       "Quantum object: dims=[[8], [1]], shape=(8, 1), type='ket', dtype=Dense$$\\left(\\begin{array}{cc}0.607\\\\0.607\\\\0.429\\\\0.248\\\\0.124\\\\0.055\\\\0.022\\\\0.010\\end{array}\\right)$$"
      ],
      "text/plain": [
       "Quantum object: dims=[[8], [1]], shape=(8, 1), type='ket', dtype=Dense\n",
       "Qobj data =\n",
       "[[0.60653066]\n",
       " [0.60653068]\n",
       " [0.4288817 ]\n",
       " [0.247617  ]\n",
       " [0.12379568]\n",
       " [0.05542986]\n",
       " [0.02233779]\n",
       " [0.00951754]]"
      ]
     },
     "execution_count": 7,
     "metadata": {},
     "output_type": "execute_result"
    }
   ],
   "source": [
    "coherent(N=8, alpha=1)"
   ]
  },
  {
   "cell_type": "markdown",
   "metadata": {},
   "source": [
    "There are other accesible states in `QuTiP`, such as `bell_state`, `thermal`, `ghz_state`\n",
    "\n",
    "As well as the very relevant `phase_basis`"
   ]
  },
  {
   "cell_type": "markdown",
   "metadata": {},
   "source": [
    "## Density matrices\n",
    "\n",
    "It is very easy to generate density matrices for states in a particular basis"
   ]
  },
  {
   "cell_type": "code",
   "execution_count": 8,
   "metadata": {},
   "outputs": [
    {
     "data": {
      "text/latex": [
       "Quantum object: dims=[[8], [8]], shape=(8, 8), type='oper', dtype=Dia, isherm=True$$\\left(\\begin{array}{cc}0 & 0 & 0 & 0 & 0 & 0 & 0 & 0\\\\0 & 0 & 0 & 0 & 0 & 0 & 0 & 0\\\\0 & 0 & 0 & 0 & 0 & 0 & 0 & 0\\\\0 & 0 & 0 & 1 & 0 & 0 & 0 & 0\\\\0 & 0 & 0 & 0 & 0 & 0 & 0 & 0\\\\0 & 0 & 0 & 0 & 0 & 0 & 0 & 0\\\\0 & 0 & 0 & 0 & 0 & 0 & 0 & 0\\\\0 & 0 & 0 & 0 & 0 & 0 & 0 & 0\\end{array}\\right)$$"
      ],
      "text/plain": [
       "Quantum object: dims=[[8], [8]], shape=(8, 8), type='oper', dtype=Dia, isherm=True\n",
       "Qobj data =\n",
       "[[0. 0. 0. 0. 0. 0. 0. 0.]\n",
       " [0. 0. 0. 0. 0. 0. 0. 0.]\n",
       " [0. 0. 0. 0. 0. 0. 0. 0.]\n",
       " [0. 0. 0. 1. 0. 0. 0. 0.]\n",
       " [0. 0. 0. 0. 0. 0. 0. 0.]\n",
       " [0. 0. 0. 0. 0. 0. 0. 0.]\n",
       " [0. 0. 0. 0. 0. 0. 0. 0.]\n",
       " [0. 0. 0. 0. 0. 0. 0. 0.]]"
      ]
     },
     "execution_count": 8,
     "metadata": {},
     "output_type": "execute_result"
    }
   ],
   "source": [
    "# a fock state as density matrix\n",
    "\n",
    "fock_dm(8, 3)  # 8 = hilbert space size, 3 = state that is occupied"
   ]
  },
  {
   "cell_type": "code",
   "execution_count": 9,
   "metadata": {},
   "outputs": [
    {
     "data": {
      "text/latex": [
       "Quantum object: dims=[[7], [7]], shape=(7, 7), type='oper', dtype=Dia, isherm=True$$\\left(\\begin{array}{cc}0.354 & 0 & 0 & 0 & 0 & 0 & 0\\\\0 & 0.236 & 0 & 0 & 0 & 0 & 0\\\\0 & 0 & 0.157 & 0 & 0 & 0 & 0\\\\0 & 0 & 0 & 0.105 & 0 & 0 & 0\\\\0 & 0 & 0 & 0 & 0.070 & 0 & 0\\\\0 & 0 & 0 & 0 & 0 & 0.047 & 0\\\\0 & 0 & 0 & 0 & 0 & 0 & 0.031\\end{array}\\right)$$"
      ],
      "text/plain": [
       "Quantum object: dims=[[7], [7]], shape=(7, 7), type='oper', dtype=Dia, isherm=True\n",
       "Qobj data =\n",
       "[[0.35405537 0.         0.         0.         0.         0.\n",
       "  0.        ]\n",
       " [0.         0.23603691 0.         0.         0.         0.\n",
       "  0.        ]\n",
       " [0.         0.         0.15735794 0.         0.         0.\n",
       "  0.        ]\n",
       " [0.         0.         0.         0.10490529 0.         0.\n",
       "  0.        ]\n",
       " [0.         0.         0.         0.         0.06993686 0.\n",
       "  0.        ]\n",
       " [0.         0.         0.         0.         0.         0.04662458\n",
       "  0.        ]\n",
       " [0.         0.         0.         0.         0.         0.\n",
       "  0.03108305]]"
      ]
     },
     "execution_count": 9,
     "metadata": {},
     "output_type": "execute_result"
    }
   ],
   "source": [
    "# thermal state\n",
    "\n",
    "n = 2  # average number of thermal photons\n",
    "thermal_dm(7, n)"
   ]
  },
  {
   "cell_type": "markdown",
   "metadata": {},
   "source": [
    "## Operators"
   ]
  },
  {
   "cell_type": "markdown",
   "metadata": {},
   "source": [
    "### Qubit (two-level-system) operators"
   ]
  },
  {
   "cell_type": "code",
   "execution_count": 10,
   "metadata": {},
   "outputs": [
    {
     "name": "stdout",
     "output_type": "stream",
     "text": [
      "Quantum object: dims=[[2], [2]], shape=(2, 2), type='oper', dtype=CSR, isherm=True\n",
      "Qobj data =\n",
      "[[0. 1.]\n",
      " [1. 0.]]\n",
      "Quantum object: dims=[[2], [2]], shape=(2, 2), type='oper', dtype=CSR, isherm=True\n",
      "Qobj data =\n",
      "[[0.+0.j 0.-1.j]\n",
      " [0.+1.j 0.+0.j]]\n",
      "Quantum object: dims=[[2], [2]], shape=(2, 2), type='oper', dtype=CSR, isherm=True\n",
      "Qobj data =\n",
      "[[ 1.  0.]\n",
      " [ 0. -1.]]\n"
     ]
    }
   ],
   "source": [
    "# Qubit (two-level system) operators\n",
    "\n",
    "# Pauli sigma x\n",
    "print(sigmax())\n",
    "\n",
    "# Pauli sigma y\n",
    "print(sigmay())\n",
    "\n",
    "# Pauli sigma z\n",
    "print(sigmaz())"
   ]
  },
  {
   "cell_type": "markdown",
   "metadata": {},
   "source": [
    "### Harmonic oscillator operators"
   ]
  },
  {
   "cell_type": "code",
   "execution_count": 11,
   "metadata": {},
   "outputs": [
    {
     "name": "stdout",
     "output_type": "stream",
     "text": [
      "Quantum object: dims=[[4], [4]], shape=(4, 4), type='oper', dtype=Dia, isherm=False\n",
      "Qobj data =\n",
      "[[0.         1.         0.         0.        ]\n",
      " [0.         0.         1.41421356 0.        ]\n",
      " [0.         0.         0.         1.73205081]\n",
      " [0.         0.         0.         0.        ]]\n",
      "Quantum object: dims=[[4], [4]], shape=(4, 4), type='oper', dtype=Dia, isherm=False\n",
      "Qobj data =\n",
      "[[0.         0.         0.         0.        ]\n",
      " [1.         0.         0.         0.        ]\n",
      " [0.         1.41421356 0.         0.        ]\n",
      " [0.         0.         1.73205081 0.        ]]\n",
      "Quantum object: dims=[[4], [4]], shape=(4, 4), type='oper', dtype=Dia, isherm=False\n",
      "Qobj data =\n",
      "[[0.         0.         0.         0.        ]\n",
      " [1.         0.         0.         0.        ]\n",
      " [0.         1.41421356 0.         0.        ]\n",
      " [0.         0.         1.73205081 0.        ]]\n"
     ]
    }
   ],
   "source": [
    "# annihilation operator\n",
    "a = destroy(N=4) # N = number of fock states included in the Hilbert space\n",
    "print(a)\n",
    "\n",
    "# creation operator\n",
    "a_dag = create(N=4) # This is equivalent to a.dag()\n",
    "print(a_dag)\n",
    "print(a.dag())"
   ]
  },
  {
   "cell_type": "markdown",
   "metadata": {},
   "source": [
    "You can combine these to form, e.g. the position operator:"
   ]
  },
  {
   "cell_type": "code",
   "execution_count": 12,
   "metadata": {},
   "outputs": [
    {
     "data": {
      "text/latex": [
       "Quantum object: dims=[[4], [4]], shape=(4, 4), type='oper', dtype=Dia, isherm=True$$\\left(\\begin{array}{cc}0 & 1 & 0 & 0\\\\1 & 0 & 1.414 & 0\\\\0 & 1.414 & 0 & 1.732\\\\0 & 0 & 1.732 & 0\\end{array}\\right)$$"
      ],
      "text/plain": [
       "Quantum object: dims=[[4], [4]], shape=(4, 4), type='oper', dtype=Dia, isherm=True\n",
       "Qobj data =\n",
       "[[0.         1.         0.         0.        ]\n",
       " [1.         0.         1.41421356 0.        ]\n",
       " [0.         1.41421356 0.         1.73205081]\n",
       " [0.         0.         1.73205081 0.        ]]"
      ]
     },
     "execution_count": 12,
     "metadata": {},
     "output_type": "execute_result"
    }
   ],
   "source": [
    "a = destroy(4)\n",
    "x = a + a.dag()\n",
    "\n",
    "x"
   ]
  },
  {
   "cell_type": "markdown",
   "metadata": {
    "tags": []
   },
   "source": [
    "# Composite systems"
   ]
  },
  {
   "cell_type": "markdown",
   "metadata": {},
   "source": [
    "To model common scenarios like a 2-qubit gate or the Jaynes-Cumming hamiltonian, we will need to deal with composite systems.\n",
    "\n",
    "The `tensor` method in `QuTiP` performs the tensor product to expand the Hilbert space appropriately for the composite system.\n",
    "\n",
    "Let's take a system of two qubits. To create a Pauli sigma-z operator that acts on the second qubit and leaves the first qubit unaffected (i.e., the operator $I \\otimes \\sigma_z$), the syntax is\n"
   ]
  },
  {
   "cell_type": "code",
   "execution_count": 2,
   "metadata": {},
   "outputs": [
    {
     "name": "stdout",
     "output_type": "stream",
     "text": [
      "Quantum object: dims=[[2, 2], [2, 2]], shape=(4, 4), type='oper', dtype=CSR, isherm=True\n",
      "Qobj data =\n",
      "[[ 1.  0.  0.  0.]\n",
      " [ 0. -1.  0.  0.]\n",
      " [ 0.  0.  1.  0.]\n",
      " [ 0.  0.  0. -1.]]\n"
     ]
    }
   ],
   "source": [
    "sz2 = tensor(qeye(2), sigmaz()) # qeye(): identity operator\n",
    "\n",
    "print(sz2)"
   ]
  },
  {
   "cell_type": "markdown",
   "metadata": {},
   "source": [
    "We can check that it has the intended behavior:"
   ]
  },
  {
   "cell_type": "code",
   "execution_count": 3,
   "metadata": {},
   "outputs": [],
   "source": [
    "N = 2\n",
    "\n",
    "psi1 = tensor(basis(N, 1), basis(N, 0))  # excited first qubit\n",
    "psi2 = tensor(basis(N, 0), basis(N, 1))  # excited second qubit"
   ]
  },
  {
   "cell_type": "code",
   "execution_count": 4,
   "metadata": {},
   "outputs": [
    {
     "name": "stdout",
     "output_type": "stream",
     "text": [
      "True\n"
     ]
    }
   ],
   "source": [
    "# this should be true, because sz2 should leave psi1 unaffected\n",
    "print(sz2 * psi1 == psi1)"
   ]
  },
  {
   "cell_type": "code",
   "execution_count": 5,
   "metadata": {},
   "outputs": [
    {
     "name": "stdout",
     "output_type": "stream",
     "text": [
      "False\n"
     ]
    }
   ],
   "source": [
    "# this should not be true, because sz2 should flip the sign of the excited state of psi2\n",
    "print(sz2 * psi2 == psi2)"
   ]
  },
  {
   "cell_type": "markdown",
   "metadata": {
    "tags": []
   },
   "source": [
    "# Finding eigenvalues and eigenstates "
   ]
  },
  {
   "cell_type": "markdown",
   "metadata": {},
   "source": [
    "### The trusty harmonic oscillator\n",
    "\n",
    "$H = \\omega a^\\dagger a$\n",
    "\n",
    "No tricks here, this is not an enlightening example, but it's just to show the syntax."
   ]
  },
  {
   "cell_type": "code",
   "execution_count": 6,
   "metadata": {},
   "outputs": [
    {
     "name": "stdout",
     "output_type": "stream",
     "text": [
      "Quantum object: dims=[[10], [10]], shape=(10, 10), type='oper', dtype=Dia, isherm=True\n",
      "Qobj data =\n",
      "[[ 0.  0.  0.  0.  0.  0.  0.  0.  0.  0.]\n",
      " [ 0.  5.  0.  0.  0.  0.  0.  0.  0.  0.]\n",
      " [ 0.  0. 10.  0.  0.  0.  0.  0.  0.  0.]\n",
      " [ 0.  0.  0. 15.  0.  0.  0.  0.  0.  0.]\n",
      " [ 0.  0.  0.  0. 20.  0.  0.  0.  0.  0.]\n",
      " [ 0.  0.  0.  0.  0. 25.  0.  0.  0.  0.]\n",
      " [ 0.  0.  0.  0.  0.  0. 30.  0.  0.  0.]\n",
      " [ 0.  0.  0.  0.  0.  0.  0. 35.  0.  0.]\n",
      " [ 0.  0.  0.  0.  0.  0.  0.  0. 40.  0.]\n",
      " [ 0.  0.  0.  0.  0.  0.  0.  0.  0. 45.]]\n",
      "[ 0.  5. 10. 15. 20. 25. 30. 35. 40. 45.]\n"
     ]
    }
   ],
   "source": [
    "a = destroy(10)\n",
    "omega = 5\n",
    "H = omega * a.dag() * a\n",
    "\n",
    "energies = H.eigenenergies()\n",
    "\n",
    "print(H)\n",
    "print(energies)"
   ]
  },
  {
   "cell_type": "markdown",
   "metadata": {},
   "source": [
    "We can restrict the number of returned energies with the `eigvals` argument:"
   ]
  },
  {
   "cell_type": "code",
   "execution_count": 7,
   "metadata": {},
   "outputs": [
    {
     "name": "stdout",
     "output_type": "stream",
     "text": [
      "[ 0.  5. 10. 15.]\n"
     ]
    }
   ],
   "source": [
    "energies = H.eigenenergies(eigvals=4)\n",
    "\n",
    "print(energies)"
   ]
  },
  {
   "cell_type": "markdown",
   "metadata": {},
   "source": [
    "The `eigenstates()` method returns both the energies and states of the hamiltonian:"
   ]
  },
  {
   "cell_type": "code",
   "execution_count": 8,
   "metadata": {},
   "outputs": [
    {
     "name": "stdout",
     "output_type": "stream",
     "text": [
      "[ 0.  5. 10. 15. 20. 25. 30. 35. 40. 45.]\n",
      "[Quantum object: dims=[[10], [1]], shape=(10, 1), type='ket', dtype=Dense\n",
      " Qobj data =\n",
      " [[1.]\n",
      "  [0.]\n",
      "  [0.]\n",
      "  [0.]\n",
      "  [0.]\n",
      "  [0.]\n",
      "  [0.]\n",
      "  [0.]\n",
      "  [0.]\n",
      "  [0.]]\n",
      " Quantum object: dims=[[10], [1]], shape=(10, 1), type='ket', dtype=Dense\n",
      " Qobj data =\n",
      " [[0.]\n",
      "  [1.]\n",
      "  [0.]\n",
      "  [0.]\n",
      "  [0.]\n",
      "  [0.]\n",
      "  [0.]\n",
      "  [0.]\n",
      "  [0.]\n",
      "  [0.]]\n",
      " Quantum object: dims=[[10], [1]], shape=(10, 1), type='ket', dtype=Dense\n",
      " Qobj data =\n",
      " [[0.]\n",
      "  [0.]\n",
      "  [1.]\n",
      "  [0.]\n",
      "  [0.]\n",
      "  [0.]\n",
      "  [0.]\n",
      "  [0.]\n",
      "  [0.]\n",
      "  [0.]]\n",
      " Quantum object: dims=[[10], [1]], shape=(10, 1), type='ket', dtype=Dense\n",
      " Qobj data =\n",
      " [[0.]\n",
      "  [0.]\n",
      "  [0.]\n",
      "  [1.]\n",
      "  [0.]\n",
      "  [0.]\n",
      "  [0.]\n",
      "  [0.]\n",
      "  [0.]\n",
      "  [0.]]\n",
      " Quantum object: dims=[[10], [1]], shape=(10, 1), type='ket', dtype=Dense\n",
      " Qobj data =\n",
      " [[0.]\n",
      "  [0.]\n",
      "  [0.]\n",
      "  [0.]\n",
      "  [1.]\n",
      "  [0.]\n",
      "  [0.]\n",
      "  [0.]\n",
      "  [0.]\n",
      "  [0.]]\n",
      " Quantum object: dims=[[10], [1]], shape=(10, 1), type='ket', dtype=Dense\n",
      " Qobj data =\n",
      " [[0.]\n",
      "  [0.]\n",
      "  [0.]\n",
      "  [0.]\n",
      "  [0.]\n",
      "  [1.]\n",
      "  [0.]\n",
      "  [0.]\n",
      "  [0.]\n",
      "  [0.]]\n",
      " Quantum object: dims=[[10], [1]], shape=(10, 1), type='ket', dtype=Dense\n",
      " Qobj data =\n",
      " [[0.]\n",
      "  [0.]\n",
      "  [0.]\n",
      "  [0.]\n",
      "  [0.]\n",
      "  [0.]\n",
      "  [1.]\n",
      "  [0.]\n",
      "  [0.]\n",
      "  [0.]]\n",
      " Quantum object: dims=[[10], [1]], shape=(10, 1), type='ket', dtype=Dense\n",
      " Qobj data =\n",
      " [[0.]\n",
      "  [0.]\n",
      "  [0.]\n",
      "  [0.]\n",
      "  [0.]\n",
      "  [0.]\n",
      "  [0.]\n",
      "  [1.]\n",
      "  [0.]\n",
      "  [0.]]\n",
      " Quantum object: dims=[[10], [1]], shape=(10, 1), type='ket', dtype=Dense\n",
      " Qobj data =\n",
      " [[0.]\n",
      "  [0.]\n",
      "  [0.]\n",
      "  [0.]\n",
      "  [0.]\n",
      "  [0.]\n",
      "  [0.]\n",
      "  [0.]\n",
      "  [1.]\n",
      "  [0.]]\n",
      " Quantum object: dims=[[10], [1]], shape=(10, 1), type='ket', dtype=Dense\n",
      " Qobj data =\n",
      " [[0.]\n",
      "  [0.]\n",
      "  [0.]\n",
      "  [0.]\n",
      "  [0.]\n",
      "  [0.]\n",
      "  [0.]\n",
      "  [0.]\n",
      "  [0.]\n",
      "  [1.]]                                                                  ]\n"
     ]
    }
   ],
   "source": [
    "energies, estates = H.eigenstates()\n",
    "print(energies)\n",
    "print(estates)"
   ]
  },
  {
   "cell_type": "markdown",
   "metadata": {},
   "source": [
    "As expected, they are the Fock basis vectors!"
   ]
  },
  {
   "cell_type": "markdown",
   "metadata": {},
   "source": [
    "### The Duffing Oscillator"
   ]
  },
  {
   "cell_type": "markdown",
   "metadata": {},
   "source": [
    "Now let's try a Duffing Oscillator, a harmonic oscillator with a slight anharmonicity built in.\n",
    "\n",
    "This is commonly used for modeling transmons!\n",
    "\n",
    "$H = \\omega a^\\dagger a - \\frac{\\alpha}{2} a^\\dagger a^\\dagger a a$"
   ]
  },
  {
   "cell_type": "code",
   "execution_count": null,
   "metadata": {},
   "outputs": [],
   "source": [
    "a = destroy(10)\n",
    "omega = 5\n",
    "alpha = 0.2\n",
    "\n",
    "H = omega * a.dag() * a - alpha/2 * a.dag() * a.dag() * a * a\n",
    "\n",
    "energies, estates = H.eigenstates()\n",
    "print(energies)"
   ]
  },
  {
   "cell_type": "markdown",
   "metadata": {},
   "source": [
    "We can quickly check that the states are not evenly spaced:"
   ]
  },
  {
   "cell_type": "code",
   "execution_count": null,
   "metadata": {},
   "outputs": [],
   "source": [
    "np.diff(energies)"
   ]
  },
  {
   "cell_type": "markdown",
   "metadata": {
    "tags": []
   },
   "source": [
    "# Time evolution, expectation values, oh my"
   ]
  },
  {
   "cell_type": "markdown",
   "metadata": {},
   "source": [
    "`QuTiP` uses a master-equation solver, aka `mesolve`, to simulate time dynamics of quantum systems.\n",
    "\n",
    "You can add dephasing and decohence operators to it for a true open system simulation. If you don't, it will fall back to unitary evolution."
   ]
  },
  {
   "cell_type": "markdown",
   "metadata": {},
   "source": [
    "## First: simple unitary dynamics\n",
    "\n",
    "Let's copy the original docs and evolve a 2-level system under $H = \\sigma_x$ with initial state $|1\\rangle$"
   ]
  },
  {
   "cell_type": "code",
   "execution_count": 13,
   "metadata": {},
   "outputs": [],
   "source": [
    "# Hamiltonian\n",
    "H = sigmax()\n",
    "\n",
    "# initial state\n",
    "psi0 = basis(2, 0)\n",
    "\n",
    "# list of times for which the solver should store the state vector\n",
    "tlist = np.linspace(0, 10, 100)\n",
    "\n",
    "result = mesolve(H, psi0, tlist, c_ops=[], e_ops=[])"
   ]
  },
  {
   "cell_type": "markdown",
   "metadata": {},
   "source": [
    "I explicitly showed the args `c_ops` and `e_ops`, which are optional (default is `None`).\n",
    "\n",
    "These are, respectively, the collapse operators to use and the operators for which we want to compute expectation values. Even if you only want to pass one, it must be a list."
   ]
  },
  {
   "cell_type": "code",
   "execution_count": 14,
   "metadata": {},
   "outputs": [
    {
     "data": {
      "text/plain": [
       "<Result\n",
       "  Solver: sesolve\n",
       "  Solver stats:\n",
       "    method: 'scipy zvode adams'\n",
       "    init time: 0.00037980079650878906\n",
       "    preparation time: 0.0002601146697998047\n",
       "    run time: 0.01387786865234375\n",
       "    solver: 'Schrodinger Evolution'\n",
       "  Time interval: [0.0, 10.0] (100 steps)\n",
       "  Number of e_ops: 0\n",
       "  States saved.\n",
       ">"
      ]
     },
     "execution_count": 14,
     "metadata": {},
     "output_type": "execute_result"
    }
   ],
   "source": [
    "result"
   ]
  },
  {
   "cell_type": "markdown",
   "metadata": {},
   "source": [
    "You're going to be finding the final state **a lot**:"
   ]
  },
  {
   "cell_type": "code",
   "execution_count": 15,
   "metadata": {},
   "outputs": [
    {
     "data": {
      "text/latex": [
       "Quantum object: dims=[[2], [1]], shape=(2, 1), type='ket', dtype=Dense$$\\left(\\begin{array}{cc}-0.839\\\\0.544j\\end{array}\\right)$$"
      ],
      "text/plain": [
       "Quantum object: dims=[[2], [1]], shape=(2, 1), type='ket', dtype=Dense\n",
       "Qobj data =\n",
       "[[-0.83906638+0.j        ]\n",
       " [ 0.        +0.54402905j]]"
      ]
     },
     "execution_count": 15,
     "metadata": {},
     "output_type": "execute_result"
    }
   ],
   "source": [
    "result.states[-1]"
   ]
  },
  {
   "cell_type": "markdown",
   "metadata": {},
   "source": [
    "## Second: expectation values\n",
    "\n",
    "Conveniently, `QuTiP` has a method called `expect()` to calculate these for either input states or density matrices."
   ]
  },
  {
   "cell_type": "code",
   "execution_count": 16,
   "metadata": {},
   "outputs": [
    {
     "data": {
      "text/plain": [
       "0.40806479408005597"
      ]
     },
     "execution_count": 16,
     "metadata": {},
     "output_type": "execute_result"
    }
   ],
   "source": [
    "expect(sigmaz(), result.states[-1])"
   ]
  },
  {
   "cell_type": "markdown",
   "metadata": {},
   "source": [
    "You can also calculate it for mulitple states, such as the full time evolution contained within `result`:"
   ]
  },
  {
   "cell_type": "code",
   "execution_count": 17,
   "metadata": {},
   "outputs": [
    {
     "data": {
      "image/png": "[encoded data removed]",
      "text/plain": [
       "<Figure size 640x480 with 1 Axes>"
      ]
     },
     "metadata": {},
     "output_type": "display_data"
    }
   ],
   "source": [
    "y = expect(sigmaz(), result.states)\n",
    "\n",
    "fig, ax = plt.subplots(1, 1)\n",
    "ax.plot(\n",
    "    tlist,\n",
    "    expect(sigmaz(), result.states),\n",
    "    color=\"xkcd:bright purple\"\n",
    ")\n",
    "ax.set_xlabel(r\"$t$\", fontsize=20)\n",
    "ax.set_ylabel(r\"$\\langle\\sigma_z\\rangle$\", fontsize=20)\n",
    "plt.tight_layout()"
   ]
  },
  {
   "cell_type": "markdown",
   "metadata": {},
   "source": [
    "We can simultaneously calculate multiple expectation values:"
   ]
  },
  {
   "cell_type": "code",
   "execution_count": 18,
   "metadata": {},
   "outputs": [
    {
     "name": "stderr",
     "output_type": "stream",
     "text": [
      "/Users/jiatongyang/opt/anaconda3/envs/qutip-env/lib/python3.13/site-packages/qutip/solver/solver_base.py:576: FutureWarning: e_ops will be keyword only from qutip 5.3 for all solver\n",
      "  warnings.warn(\n"
     ]
    },
    {
     "data": {
      "image/png": "[encoded data removed]",
      "text/plain": [
       "<Figure size 640x480 with 1 Axes>"
      ]
     },
     "metadata": {},
     "output_type": "display_data"
    }
   ],
   "source": [
    "result = mesolve(H, psi0, tlist, [], [sigmax(), sigmay(), sigmaz()])\n",
    "\n",
    "fig, ax = plt.subplots(1, 1)\n",
    "labels = [r\"$\\langle\\sigma_x\\rangle$\", r\"$\\langle\\sigma_y\\rangle$\", r\"$\\langle\\sigma_z\\rangle$\"]\n",
    "colors = [\"xkcd:light blue\", \"xkcd:bright blue\", \"xkcd:bright purple\"]\n",
    "for i, evals in enumerate(result.expect):\n",
    "    ax.plot(\n",
    "        tlist,\n",
    "        evals,\n",
    "        label=labels[i],\n",
    "        color=colors[i]\n",
    "    )\n",
    "ax.legend()\n",
    "ax.set_xlabel(r\"$t$\", fontsize=20)\n",
    "ax.set_ylabel(\"Expectation value\", fontsize=20)\n",
    "plt.tight_layout()"
   ]
  },
  {
   "cell_type": "markdown",
   "metadata": {},
   "source": [
    "## Once more, with dissipation\n",
    "\n",
    "We'll slightly modify the Hamiltonian so that the energy gap is $\\Delta$:\n",
    "$H = \\frac{\\Delta}{2} \\sigma_x$\n",
    "\n",
    "Now we will add a collapse operator:\n",
    "$C = \\sqrt{\\gamma} \\sigma_z$\n",
    "\n",
    "and the dynamics will follow the Lindblad Master Equation:\n",
    "\n",
    "$\\dot\\rho (t) = -\\frac{i}{\\hbar} \\left[H(t), \\rho(t) \\right] + \\sum\\limits_{n} \\frac{1}{2} \\left[2 C_n\\rho(t)C_n^{\\dagger} - \\rho(t)C_n^{\\dagger}C_n - C_n^{\\dagger}C_n\\rho(t)  \\right]$"
   ]
  },
  {
   "cell_type": "code",
   "execution_count": 20,
   "metadata": {},
   "outputs": [],
   "source": [
    "# coefficients\n",
    "delta = 2 * np.pi\n",
    "g = 0.25  # decay rate - should be much smaller than energy scales in system\n",
    "\n",
    "# Hamiltonian\n",
    "H = delta / 2.0 * sigmax()\n",
    "\n",
    "# list of collapse operators\n",
    "c_ops = [np.sqrt(g) * sigmaz()]\n",
    "\n",
    "# initial state\n",
    "psi0 = basis(2, 0)\n",
    "\n",
    "# list of times for which the solver should store the state vector\n",
    "tlist = np.linspace(0, 10, 200)\n",
    "\n",
    "result = mesolve(H, psi0, tlist, c_ops=c_ops, e_ops=[sigmaz()])"
   ]
  },
  {
   "cell_type": "markdown",
   "metadata": {},
   "source": [
    "We can compare with the analytic solution:"
   ]
  },
  {
   "cell_type": "code",
   "execution_count": 21,
   "metadata": {},
   "outputs": [],
   "source": [
    "sz_analytic = np.cos(2 * np.pi * tlist) * np.exp(-tlist * g)"
   ]
  },
  {
   "cell_type": "code",
   "execution_count": 22,
   "metadata": {},
   "outputs": [
    {
     "data": {
      "image/png": "[encoded data removed]",
      "text/plain": [
       "<Figure size 640x480 with 1 Axes>"
      ]
     },
     "metadata": {},
     "output_type": "display_data"
    }
   ],
   "source": [
    "fig, ax = plt.subplots(1, 1)\n",
    "plt.plot(\n",
    "    tlist,\n",
    "    sz_analytic,\n",
    "    c=\"xkcd:cerulean\",\n",
    "    linewidth=2.5,\n",
    "    label=\"analytic\"\n",
    ")\n",
    "ax.scatter(\n",
    "    tlist,\n",
    "    result.expect[0],\n",
    "    marker=\"o\",\n",
    "    label=\"mesolve\",\n",
    "    color=\"xkcd:bright purple\"\n",
    ")\n",
    "plt.legend()\n",
    "ax.set_xlabel(r\"$t$\", fontsize=20)\n",
    "ax.set_ylabel(r\"$\\langle\\sigma_z\\rangle$\", fontsize=20)\n",
    "plt.tight_layout()"
   ]
  },
  {
   "cell_type": "code",
   "execution_count": null,
   "metadata": {},
   "outputs": [],
   "source": []
  }
 ],
 "metadata": {
  "kernelspec": {
   "display_name": "qutip-env",
   "language": "python",
   "name": "python3"
  },
  "language_info": {
   "codemirror_mode": {
    "name": "ipython",
    "version": 3
   },
   "file_extension": ".py",
   "mimetype": "text/x-python",
   "name": "python",
   "nbconvert_exporter": "python",
   "pygments_lexer": "ipython3",
   "version": "3.13.2"
  }
 },
 "nbformat": 4,
 "nbformat_minor": 4
}
