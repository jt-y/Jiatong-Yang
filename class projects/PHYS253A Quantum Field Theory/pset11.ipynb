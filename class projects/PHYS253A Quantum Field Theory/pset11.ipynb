{
 "cells": [
  {
   "cell_type": "code",
   "execution_count": 5,
   "metadata": {},
   "outputs": [],
   "source": [
    "from scipy.integrate import quad\n",
    "import numpy as np\n",
    "import matplotlib.pyplot as plt"
   ]
  },
  {
   "cell_type": "code",
   "execution_count": 91,
   "metadata": {},
   "outputs": [],
   "source": [
    "m_pi = 1/13\n",
    "\n",
    "def amp_integrand(x, s):\n",
    "    return x*(1-x)*np.log(np.abs(1-s*x*(1-x)))\n",
    "\n",
    "def angle_integrand(x, s):\n",
    "    return x*(1-x)*np.heaviside(s*x*(1-x)-1, 0)*np.pi\n",
    "\n",
    "def imag_part_analytic(s):\n",
    "\n",
    "    imag_part = np.zeros_like(s)\n",
    "\n",
    "    for i in range(len(s)):\n",
    "        if s[i] < 4:\n",
    "            imag_part[i] = 0\n",
    "        else:\n",
    "            imag_part[i] = 1/12/np.pi*(4*m_pi**2/s[i]-1)*np.sqrt(1-4/s[i])*(1+2/s[i])\n",
    "\n",
    "    return imag_part"
   ]
  },
  {
   "cell_type": "code",
   "execution_count": 102,
   "metadata": {},
   "outputs": [
    {
     "name": "stderr",
     "output_type": "stream",
     "text": [
      "/Users/jiatongyang/opt/anaconda3/lib/python3.7/site-packages/ipykernel_launcher.py:8: IntegrationWarning: The maximum number of subdivisions (50) has been achieved.\n",
      "  If increasing the limit yields no improvement it is advised to analyze \n",
      "  the integrand in order to determine the difficulties.  If the position of a \n",
      "  local difficulty can be determined (singularity, discontinuity) one will \n",
      "  probably gain from splitting up the interval and calling the integrator \n",
      "  on the subranges.  Perhaps a special-purpose integrator should be used.\n",
      "  \n",
      "/Users/jiatongyang/opt/anaconda3/lib/python3.7/site-packages/ipykernel_launcher.py:9: IntegrationWarning: The maximum number of subdivisions (50) has been achieved.\n",
      "  If increasing the limit yields no improvement it is advised to analyze \n",
      "  the integrand in order to determine the difficulties.  If the position of a \n",
      "  local difficulty can be determined (singularity, discontinuity) one will \n",
      "  probably gain from splitting up the interval and calling the integrator \n",
      "  on the subranges.  Perhaps a special-purpose integrator should be used.\n",
      "  if __name__ == '__main__':\n"
     ]
    }
   ],
   "source": [
    "s = np.linspace(2*m_pi**2, 5, 1000)\n",
    "m_real = np.zeros(len(s))\n",
    "m_imag = np.zeros(len(s))\n",
    "m_sq = np.zeros(len(s))\n",
    "\n",
    "\n",
    "for i in range(len(s)):\n",
    "    amp = quad(amp_integrand, 0, 1, args=(s[i]))[0]\n",
    "    angle = quad(angle_integrand, 0, 1, args=(s[i]))[0]\n",
    "    m_real[i] = (4*m_pi**2/s[i]-1)*(1+1/2/np.pi**2*amp)\n",
    "    m_imag[i] = (4*m_pi**2/s[i]-1)/2/np.pi**2*angle\n",
    "    m_sq[i] = m_real[i]**2 + m_imag[i]**2"
   ]
  },
  {
   "cell_type": "code",
   "execution_count": 119,
   "metadata": {},
   "outputs": [
    {
     "data": {
      "image/png": "[encoded data removed]",
      "text/plain": [
       "<Figure size 432x288 with 1 Axes>"
      ]
     },
     "metadata": {
      "needs_background": "light"
     },
     "output_type": "display_data"
    }
   ],
   "source": [
    "plt.scatter(s, m_real, label='real')\n",
    "#plt.scatter(s, m_imag, color='g', label='imag')\n",
    "#plt.plot(s, imag_part_analytic(s), color='r', label='analytic')\n",
    "plt.xlabel(r'$s/m_{\\tau}^2$')\n",
    "plt.ylabel(r'$M$')\n",
    "plt.xlim(3,5)\n",
    "plt.ylim(-1, -0.95)\n",
    "#plt.yscale('log')\n",
    "plt.legend()    \n",
    "plt.savefig('plot_real.pdf', bbox_inches='tight')"
   ]
  },
  {
   "cell_type": "code",
   "execution_count": 105,
   "metadata": {},
   "outputs": [
    {
     "data": {
      "image/png": "[encoded data removed]",
      "text/plain": [
       "<Figure size 432x288 with 1 Axes>"
      ]
     },
     "metadata": {
      "needs_background": "light"
     },
     "output_type": "display_data"
    }
   ],
   "source": [
    "plt.plot(s, m_sq)\n",
    "plt.xlabel(r'$s/m_{\\tau}^2$')\n",
    "plt.ylabel(r'$|M|^2$')\n",
    "plt.ylim(0.9, 1.0)\n",
    "plt.xlim(3,5)\n",
    "plt.savefig('plot.pdf', bbox_inches='tight')\n"
   ]
  },
  {
   "cell_type": "code",
   "execution_count": null,
   "metadata": {},
   "outputs": [],
   "source": []
  }
 ],
 "metadata": {
  "kernelspec": {
   "display_name": "base",
   "language": "python",
   "name": "python3"
  },
  "language_info": {
   "codemirror_mode": {
    "name": "ipython",
    "version": 3
   },
   "file_extension": ".py",
   "mimetype": "text/x-python",
   "name": "python",
   "nbconvert_exporter": "python",
   "pygments_lexer": "ipython3",
   "version": "3.7.6"
  }
 },
 "nbformat": 4,
 "nbformat_minor": 2
}
