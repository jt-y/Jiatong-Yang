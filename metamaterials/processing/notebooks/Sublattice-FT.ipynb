{
 "cells": [
  {
   "cell_type": "code",
   "execution_count": 1,
   "metadata": {},
   "outputs": [],
   "source": [
    "import matplotlib.pyplot as plt\n",
    "import numba\n",
    "import numpy as np"
   ]
  },
  {
   "cell_type": "code",
   "execution_count": 2,
   "metadata": {},
   "outputs": [],
   "source": [
    "# Lattice vectors\n",
    "a = 2.46\n",
    "c = 6.71\n",
    "lat_vec = a * np.array([\n",
    "    [3**0.5/2, -1/2, 0],\n",
    "    [3**0.5/2, 1/2, 0],\n",
    "    [0, 0, c/a]\n",
    "])\n",
    "a1, a2, a3 = lat_vec\n",
    "\n",
    "# Sublattice offsets\n",
    "basis = np.array([\n",
    "    [0, 0, 0],\n",
    "    [a/3**0.5, 0, 0],\n",
    "    [0, 0, c/2],\n",
    "    [-a/3**0.5, 0, c/2],\n",
    "])\n",
    "\n",
    "\n",
    "# Reciprocal lattice vectors\n",
    "rec_vec = 2*np.pi*np.linalg.inv(lat_vec).T\n",
    "b1, b2, b3 = rec_vec\n",
    "\n",
    "\n",
    "# High-symmetry points\n",
    "G = np.array([0., 0., 0.])\n",
    "K = (b1 + 2*b2)/3\n",
    "M = (b1 + b2)/2\n",
    "A = b3/2\n",
    "L = A + M\n",
    "H = A + K"
   ]
  },
  {
   "cell_type": "code",
   "execution_count": 7,
   "metadata": {},
   "outputs": [],
   "source": [
    "@numba.njit\n",
    "def make_rmesh(N, offset=G):\n",
    "    \"\"\"Make a coordinate mesh grid.\n",
    "\n",
    "    r[:,n,i,j] = i * a1 + j * a2 + R_n + offset\n",
    "\n",
    "    Parameters\n",
    "    ----------\n",
    "    N1, N2 : int\n",
    "        Number of sites.\n",
    "    lat_vec : ndarray\n",
    "    offset : ndarray\n",
    "        Offset of vectors.\n",
    "\n",
    "    Returns\n",
    "    -------\n",
    "    rs : ndarray\n",
    "        Coordinates.\n",
    "    \"\"\"\n",
    "    rs = np.empty((3, 2, N, N))\n",
    "    f = np.arange(N)\n",
    "    f[N//2:] -= N\n",
    "    for n in range(2):\n",
    "        for i in range(N):\n",
    "            for j in range(N):\n",
    "                rs[:,n,i,j] = f[i]*a1 + f[j]*a2 + basis[n] + offset\n",
    "    return rs\n",
    "\n",
    "\n",
    "@numba.njit\n",
    "def make_kmesh(N, offset=G, tile=1):\n",
    "    \"\"\"Make a k-mesh grid on the trapezoidal Brillouin zone.\n",
    "\n",
    "    k[:,i,j] = i/N1 * b1 + j/N2 * b2 + offset\n",
    "\n",
    "    Parameters\n",
    "    ----------\n",
    "    N1, N2 : int\n",
    "        Number of k-points.\n",
    "    offset : ndarray\n",
    "        Offset of vectors.\n",
    "    tile : int\n",
    "        Number of BZ repetitions.\n",
    "\n",
    "    Returns\n",
    "    -------\n",
    "    ks : ndarray\n",
    "        k vectors.\n",
    "    \"\"\"\n",
    "    b1 = rec_vec[0]\n",
    "    b2 = rec_vec[1]\n",
    "    ks = np.empty((3, tile*N, tile*N))\n",
    "    for i in range(tile*N):\n",
    "        for j in range(tile*N):\n",
    "            ks[:,i,j] = i/N * b1 + j/N * b2 + offset\n",
    "    return ks"
   ]
  },
  {
   "cell_type": "code",
   "execution_count": 8,
   "metadata": {},
   "outputs": [
    {
     "name": "stdout",
     "output_type": "stream",
     "text": [
      "(2, 512, 512)\n"
     ]
    }
   ],
   "source": [
    "V = 1.\n",
    "delta = 0.01\n",
    "Nk = 512\n",
    "nr = np.load(f'HOPG_B2_nr_{Nk}x{Nk}_V{V}_Gamma{delta}.npy')\n",
    "print(nr.shape)"
   ]
  },
  {
   "cell_type": "code",
   "execution_count": 9,
   "metadata": {},
   "outputs": [],
   "source": [
    "x, y, z = make_rmesh(Nk)"
   ]
  },
  {
   "cell_type": "code",
   "execution_count": 10,
   "metadata": {},
   "outputs": [
    {
     "data": {
      "image/png": "[encoded data removed]",
      "text/plain": [
       "<Figure size 432x288 with 2 Axes>"
      ]
     },
     "metadata": {
      "needs_background": "light"
     },
     "output_type": "display_data"
    }
   ],
   "source": [
    "c = 1e6*nr\n",
    "vmax = np.abs(c).max()\n",
    "\n",
    "fig, ax = plt.subplots()\n",
    "s = ax.scatter(x, y, s=1, c=c, vmin=-vmax, vmax=vmax, cmap='RdBu_r')\n",
    "#ax.set_xlim(-50, 50)\n",
    "#ax.set_ylim(-50, 50)\n",
    "ax.set_aspect(1)\n",
    "ax.set_xticks([])\n",
    "ax.set_yticks([])\n",
    "cb = fig.colorbar(s, ax=ax)\n",
    "cb.ax.set_title(r'$10^6 n_r$')\n",
    "\n",
    "plt.show()"
   ]
  },
  {
   "cell_type": "markdown",
   "metadata": {},
   "source": [
    "The coordinates and momenta are\n",
    "$$ r = n_1 a_1 + n_2 a_2 + R_n $$\n",
    "$$ q = \\frac{m_1}{N} b_1 + \\frac{m_2}{N} b_2 $$\n",
    "$$ q \\cdot r = \\frac{2\\pi}{N} (m_1 n_1 + m_2 n_2) + q \\cdot R_n $$\n",
    "\n",
    "The Fourier transform is\n",
    "$$ A_q = \\sum_r a_r e^{-iqr} \\\\\n",
    "= \\sum_{n, n_1, n_2} a_r \\exp\\left( -2\\pi i(m_1 n_1 + m_2 n_2) - iq \\cdot R_n \\right) \\\\\n",
    "= \\sum_n e^{-iq \\cdot R_n} \\sum_{n_1, n_2} a_r \\exp\\left( -\\frac{2\\pi i}{N} (m_1 n_1 + m_2 n_2) \\right) $$\n",
    "I.e. the Fourier transform is the sum of the DFT of each sublattice with a phase offset."
   ]
  },
  {
   "cell_type": "code",
   "execution_count": 50,
   "metadata": {},
   "outputs": [],
   "source": [
    "# Tile FT\n",
    "\n",
    "\n",
    "tileNum = 4\n",
    "q = make_kmesh(Nk, -tileNum/2*(b1+b2), tileNum)\n",
    "nq = np.tile(np.fft.fft2(nr), (tileNum, tileNum))\n",
    "#nq = np.tile(np.fft.fftshift(np.fft.fft2(nr)), (tileNum, tileNum))\n",
    "Z = np.zeros((tileNum*Nk, tileNum*Nk), complex)\n",
    "\n",
    "for i in range(2):\n",
    "    # Sum FT with offset phase\n",
    "    Z += nq[i] * np.exp(-1j * (q[0] * basis[i,0] + q[1] * basis[i,1]))"
   ]
  },
  {
   "cell_type": "code",
   "execution_count": 51,
   "metadata": {},
   "outputs": [
    {
     "name": "stderr",
     "output_type": "stream",
     "text": [
      "/Users/jiatongyang/opt/anaconda3/lib/python3.7/site-packages/ipykernel_launcher.py:5: MatplotlibDeprecationWarning: shading='flat' when X and Y have the same dimensions as C is deprecated since 3.3.  Either specify the corners of the quadrilaterals with X and Y, or pass shading='auto', 'nearest' or 'gouraud', or set rcParams['pcolor.shading'].  This will become an error two minor releases later.\n",
      "  \"\"\"\n"
     ]
    },
    {
     "data": {
      "image/png": "[encoded data removed]",
      "text/plain": [
       "<Figure size 576x576 with 1 Axes>"
      ]
     },
     "metadata": {},
     "output_type": "display_data"
    }
   ],
   "source": [
    "xmax = 4*np.pi/(3**0.5*a)\n",
    "ymax = 2*np.pi/a\n",
    "\n",
    "fig, ax = plt.subplots(figsize=(8,8))\n",
    "im = ax.pcolormesh(q[0], q[1], np.abs(Z), vmin=0, cmap='Blues_r', rasterized=True)\n",
    "ax.set_aspect(1)\n",
    "#ax.set_xlim(-xmax, xmax)\n",
    "#ax.set_ylim(-ymax, ymax)\n",
    "K = np.array([(b1 + 2*b2)/3, (-b1 + b2)/3, (b2 + 2*b1)/3, -(b1 + 2*b2)/3, -(-b1 + b2)/3, -(b2 + 2*b1)/3])\n",
    "ax.plot(K[:,0], K[:,1], 'r.')\n",
    "ax.set_xticks([])\n",
    "ax.set_yticks([])\n",
    "ax.axis('off')\n",
    "plt.savefig(f\"../../data/FT_debug/figures/tile{tileNum}.png\")"
   ]
  },
  {
   "cell_type": "code",
   "execution_count": null,
   "metadata": {},
   "outputs": [],
   "source": []
  }
 ],
 "metadata": {
  "kernelspec": {
   "display_name": "Python 3",
   "language": "python",
   "name": "python3"
  },
  "language_info": {
   "codemirror_mode": {
    "name": "ipython",
    "version": 3
   },
   "file_extension": ".py",
   "mimetype": "text/x-python",
   "name": "python",
   "nbconvert_exporter": "python",
   "pygments_lexer": "ipython3",
   "version": "3.7.6"
  }
 },
 "nbformat": 4,
 "nbformat_minor": 4
}
