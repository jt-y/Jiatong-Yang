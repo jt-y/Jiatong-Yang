{
 "cells": [
  {
   "cell_type": "code",
   "execution_count": 1,
   "metadata": {},
   "outputs": [],
   "source": [
    "import os\n",
    "import pickle\n",
    "import glob\n",
    "import skimage\n",
    "import skimage.transform\n",
    "import numpy as np\n",
    "from matplotlib import pyplot as plt\n",
    "from tqdm import tqdm\n",
    "import csv\n",
    "\n",
    "import sys\n",
    "\n",
    "%matplotlib inline"
   ]
  },
  {
   "cell_type": "code",
   "execution_count": 24,
   "metadata": {},
   "outputs": [],
   "source": [
    "e = []\n",
    "freqs = []\n",
    "amp0 = []\n",
    "phase0 = []\n",
    "\n",
    "amp1 = []\n",
    "phase1 = []\n",
    "\n",
    "\n",
    "\n",
    "with open('../../data/phase_periodic/raw/periodic_freq2.csv', newline='') as csvfile:\n",
    "    reader = csv.reader(csvfile, delimiter=',')\n",
    "\n",
    "    headerNum = 5\n",
    "    for i in range(headerNum):\n",
    "        next(reader)\n",
    "        \n",
    "    for row in reader:\n",
    "        e.append(float(row[0]))\n",
    "        freqs.append(complex(row[1].replace('i', 'j', 1)))\n",
    "        amp0.append(float(row[2]))\n",
    "        phase0.append(float(row[4]))\n",
    "        amp1.append(float(row[3]))\n",
    "        phase1.append(float(row[5]))\n"
   ]
  },
  {
   "cell_type": "code",
   "execution_count": 32,
   "metadata": {},
   "outputs": [
    {
     "name": "stdout",
     "output_type": "stream",
     "text": [
      "[ 1.05677861e-03 -1.34217327e+00 -1.16440731e+00 -1.05309984e+00\n",
      " -9.64392555e-01 -8.85360639e-01 -8.10914953e-01 -7.38610434e-01\n",
      " -6.67082189e-01 -5.95464852e-01 -5.23142019e-01 -4.49624728e-01\n",
      " -3.74486393e-01 -2.97324626e-01 -2.17736775e-01 -1.35302686e-01\n",
      " -4.95712260e-02  3.99527105e-02  1.33829648e-01  2.32791972e-01\n",
      "  1.44844243e-01  2.70062009e+00  2.77683357e+00  2.82728120e+00\n",
      "  2.87273139e+00  2.91716632e+00  2.96188539e+00  3.00737659e+00\n",
      "  3.05374293e+00  3.10083486e+00 -3.13485994e+00 -1.12515741e+00\n",
      " -1.18231955e+00 -1.24313614e+00 -1.30505352e+00 -1.36761455e+00\n",
      " -1.43072819e+00 -1.49443136e+00 -1.55884227e+00 -1.62416539e+00\n",
      " -1.69072800e+00 -1.75905933e+00 -1.83005019e+00 -1.90527979e+00\n",
      " -1.98763898e+00 -2.08149494e+00 -2.18084481e+00 -2.23596752e+00]\n"
     ]
    },
    {
     "data": {
      "image/png": "[encoded data removed]",
      "text/plain": [
       "<Figure size 432x288 with 1 Axes>"
      ]
     },
     "metadata": {
      "needs_background": "light"
     },
     "output_type": "display_data"
    },
    {
     "data": {
      "image/png": "[encoded data removed]",
      "text/plain": [
       "<Figure size 432x288 with 1 Axes>"
      ]
     },
     "metadata": {
      "needs_background": "light"
     },
     "output_type": "display_data"
    }
   ],
   "source": [
    "phase0 = np.array(phase0)\n",
    "phase1 = np.array(phase1)\n",
    "\n",
    "unwrap0 = np.unwrap(phase0)\n",
    "unwrap1 = np.unwrap(phase1)\n",
    "\n",
    "freqs = np.abs(np.array(freqs))\n",
    "plt.plot(phase0, freqs, 'b.')\n",
    "plt.plot(phase1, freqs, 'r.')\n",
    "plt.grid()\n",
    "\n",
    "\n",
    "plt.figure()\n",
    "plt.plot(unwrap0, freqs, 'b.')\n",
    "plt.plot(unwrap1, freqs, 'r.')\n",
    "plt.grid()\n",
    "\n",
    "print(phase0)"
   ]
  },
  {
   "cell_type": "code",
   "execution_count": null,
   "metadata": {},
   "outputs": [],
   "source": []
  }
 ],
 "metadata": {
  "kernelspec": {
   "display_name": "Python 3",
   "language": "python",
   "name": "python3"
  },
  "language_info": {
   "codemirror_mode": {
    "name": "ipython",
    "version": 3
   },
   "file_extension": ".py",
   "mimetype": "text/x-python",
   "name": "python",
   "nbconvert_exporter": "python",
   "pygments_lexer": "ipython3",
   "version": "3.7.6"
  }
 },
 "nbformat": 4,
 "nbformat_minor": 4
}
